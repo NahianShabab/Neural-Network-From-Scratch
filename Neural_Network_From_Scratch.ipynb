{
  "cells": [
    {
      "cell_type": "code",
      "execution_count": null,
      "metadata": {},
      "outputs": [],
      "source": [
        "!pip install torchvision"
      ]
    },
    {
      "cell_type": "code",
      "execution_count": null,
      "metadata": {
        "id": "rg5DDuDdRd3W"
      },
      "outputs": [],
      "source": [
        "import numpy as np"
      ]
    },
    {
      "cell_type": "code",
      "execution_count": null,
      "metadata": {
        "id": "n_JKAhgl6aXN"
      },
      "outputs": [],
      "source": [
        "from torchvision.datasets import EMNIST\n",
        "from torchvision.transforms import PILToTensor,ToTensor"
      ]
    },
    {
      "cell_type": "code",
      "execution_count": null,
      "metadata": {
        "id": "LzXmv9Er60YY"
      },
      "outputs": [],
      "source": [
        "training_data=EMNIST(root=\"data\",split=\"digits\",train=True,download=True,transform=ToTensor())\n",
        "test_data=EMNIST(root=\"data\",split=\"digits\",train=False,download=True,transform=ToTensor())"
      ]
    },
    {
      "cell_type": "code",
      "execution_count": null,
      "metadata": {
        "id": "_w5h9jSrB1Ub"
      },
      "outputs": [],
      "source": [
        "LEARNING_RATE=0.0001\n",
        "EPOCHS=100000"
      ]
    },
    {
      "cell_type": "code",
      "execution_count": null,
      "metadata": {
        "id": "sI4sPsWLSFEG"
      },
      "outputs": [],
      "source": [
        "class Layer():\n",
        "  def forward():\n",
        "    pass\n",
        "\n",
        "  def back_propogate():\n",
        "    pass"
      ]
    },
    {
      "cell_type": "code",
      "execution_count": null,
      "metadata": {
        "id": "_QOvSRfESNMq"
      },
      "outputs": [],
      "source": [
        "class DenseLayer(Layer):\n",
        "  def __init__(self,input_size,output_size):\n",
        "    self.weight = np.random.rand(input_size,output_size)\n",
        "    self.bias = np.random.rand(1,output_size)\n",
        "    # print(self.weight)\n",
        "    # print(self.bias)\n",
        "  def forward(self,input):\n",
        "    self.input = input\n",
        "    return input @ self.weight + self.bias\n",
        "\n",
        "  def back_propogate(self,out_grad,learning_rate=0.1):\n",
        "    bias_grad = np.sum(out_grad,axis=0) / out_grad.shape[0]\n",
        "    weight_grad = self.input.T @ out_grad / out_grad.shape[0]\n",
        "    input_grad = out_grad @ self.weight.T\n",
        "    # print(f\"out_grad shape: {out_grad.shape}\")\n",
        "    # print(f\"input shape:{self.input.shape}\")\n",
        "    # print(f\"weight_grad shape: {weight_grad.shape}\")\n",
        "    self.weight-=learning_rate * weight_grad\n",
        "    self.bias-=learning_rate * bias_grad\n",
        "    return input_grad"
      ]
    },
    {
      "cell_type": "code",
      "execution_count": null,
      "metadata": {
        "id": "3F9319rZmo0h"
      },
      "outputs": [],
      "source": [
        "class ReLU(Layer):\n",
        "  def forward(self,input):\n",
        "    self.input = input\n",
        "    return np.where(input < 0 ,0,input)\n",
        "\n",
        "  def back_propogate(self,out_grad,learning_rate=0.1):\n",
        "    o= out_grad * np.where(self.input<=0,0,1)\n",
        "    # print(f\"in grad at relu = {o}\")\n",
        "    return o"
      ]
    },
    {
      "cell_type": "code",
      "execution_count": null,
      "metadata": {
        "id": "5-4c2LqGgn-V"
      },
      "outputs": [],
      "source": [
        "def mse(y,y_true):\n",
        "  return np.sum(np.sum((y-y_true)**2,axis=1)) / y.shape[0]"
      ]
    },
    {
      "cell_type": "code",
      "execution_count": null,
      "metadata": {
        "id": "vgpHO1BDfxTH"
      },
      "outputs": [],
      "source": [
        "def mse_prime(y,y_true):\n",
        "  return 2 * (y-y_true)"
      ]
    },
    {
      "cell_type": "code",
      "execution_count": null,
      "metadata": {
        "id": "OVbClyKyWfzr"
      },
      "outputs": [],
      "source": [
        "def softmax(x):\n",
        "  # Subtract the maximum value for numerical stability\n",
        "  max_val = np.max(x, axis=1, keepdims=True)\n",
        "  exp_x = np.exp(x - max_val)\n",
        "\n",
        "  # Calculate softmax probabilities\n",
        "  softmax_probs = exp_x / np.sum(exp_x, axis=1, keepdims=True)\n",
        "\n",
        "  return softmax_probs\n"
      ]
    },
    {
      "cell_type": "code",
      "execution_count": null,
      "metadata": {
        "id": "Laqo9HhmhlWT"
      },
      "outputs": [],
      "source": [
        "def convert_to_one_hot(y_true, num_classes):\n",
        "  # Ensure y_true is a 1D array\n",
        "  y_true = np.squeeze(y_true)\n",
        "\n",
        "  # Create an identity matrix of size num_classes\n",
        "  identity_matrix = np.eye(num_classes)\n",
        "\n",
        "  # Use y_true as indices to get the one-hot encoded matrix\n",
        "  y_one_hot = identity_matrix[y_true]\n",
        "\n",
        "  return y_one_hot"
      ]
    },
    {
      "cell_type": "code",
      "execution_count": null,
      "metadata": {
        "id": "y3vJxSTh2X5n"
      },
      "outputs": [],
      "source": [
        "def cross_entropy_loss(y,y_true):\n",
        "  epsilon = 1e-15\n",
        "  y=softmax(y)\n",
        "  num_classes = y.shape[1]\n",
        "  y_true = convert_to_one_hot(y_true,num_classes)\n",
        "  loss = -1 * np.log(y+epsilon) * y_true\n",
        "  return np.sum(np.sum(loss,axis=1),axis=0) / y.shape[0]"
      ]
    },
    {
      "cell_type": "code",
      "execution_count": null,
      "metadata": {
        "id": "0ZJOLAoumOtU"
      },
      "outputs": [],
      "source": [
        "def cross_entropy_loss_prime(y,y_true):\n",
        "  s = softmax(y)\n",
        "  num_classes = y.shape[1]\n",
        "  y_true = convert_to_one_hot(y_true,num_classes)\n",
        "  return s - y_true"
      ]
    },
    {
      "cell_type": "code",
      "execution_count": null,
      "metadata": {
        "id": "SwpXsci10gGE"
      },
      "outputs": [],
      "source": [
        "# output must not be softmaxed\n",
        "def get_classification_accuracy(output,y_true):\n",
        "  output = softmax(output)\n",
        "  correct = 0\n",
        "  for i in range(output.shape[0]):\n",
        "    k = np.argmax(output[i])\n",
        "    if k == y_true[i]:\n",
        "      correct+=1\n",
        "  return correct / output.shape[0]"
      ]
    },
    {
      "cell_type": "code",
      "execution_count": null,
      "metadata": {
        "id": "FgrOKnxLgCjY"
      },
      "outputs": [],
      "source": [
        "def train(x,y_true,loss_func,loss_prime,network:list[Layer]):\n",
        "\n",
        "  for epoch in range(EPOCHS):\n",
        "    output = x\n",
        "    for layer in network:\n",
        "      output = layer.forward(output)\n",
        "    loss = loss_func(output,y_true)\n",
        "    accuracy = get_classification_accuracy(output,y_true)\n",
        "    print(f\"Epoch {epoch} Loss: {loss} Accuracy: {accuracy*100} %\")\n",
        "    out_grad = loss_prime(output,y_true)\n",
        "    l = len(network)\n",
        "    for i in range(l-1,-1,-1):\n",
        "      out_grad = network[i].back_propogate(out_grad,LEARNING_RATE)\n",
        "\n"
      ]
    },
    {
      "cell_type": "markdown",
      "metadata": {
        "id": "unTZ_KHp3nNa"
      },
      "source": [
        "Training"
      ]
    },
    {
      "cell_type": "code",
      "execution_count": null,
      "metadata": {
        "id": "ZFuUKAhA88nN"
      },
      "outputs": [],
      "source": [
        "x = np.array([t[0].squeeze().numpy().flatten() for t in training_data])\n",
        "x = x[:1000]"
      ]
    },
    {
      "cell_type": "code",
      "execution_count": null,
      "metadata": {
        "colab": {
          "base_uri": "https://localhost:8080/"
        },
        "id": "bSdTh3ux9dxH",
        "outputId": "0dc8aed9-4dda-4818-9da4-b09e1e95eba5"
      },
      "outputs": [
        {
          "data": {
            "text/plain": [
              "(1000, 784)"
            ]
          },
          "execution_count": 74,
          "metadata": {},
          "output_type": "execute_result"
        }
      ],
      "source": [
        "x.shape"
      ]
    },
    {
      "cell_type": "code",
      "execution_count": null,
      "metadata": {
        "id": "VHsS9y_j_50Z"
      },
      "outputs": [],
      "source": [
        "y_true = np.array([t[1] for t in training_data]).reshape((-1,1))\n",
        "y_true = y_true[:1000]"
      ]
    },
    {
      "cell_type": "code",
      "execution_count": null,
      "metadata": {
        "colab": {
          "base_uri": "https://localhost:8080/"
        },
        "id": "yLkTjHvEAC6V",
        "outputId": "07a45a26-40b0-44b3-f091-2c690f27e44d"
      },
      "outputs": [
        {
          "data": {
            "text/plain": [
              "(1000, 1)"
            ]
          },
          "execution_count": 76,
          "metadata": {},
          "output_type": "execute_result"
        }
      ],
      "source": [
        "y_true.shape"
      ]
    },
    {
      "cell_type": "code",
      "execution_count": null,
      "metadata": {
        "id": "5tUGVwqwu71v"
      },
      "outputs": [],
      "source": [
        "network:list[Layer]= [\n",
        "    DenseLayer(784,64),\n",
        "    ReLU(),\n",
        "    DenseLayer(64,10),\n",
        "    ReLU(),\n",
        "    DenseLayer(10,10)\n",
        "]"
      ]
    },
    {
      "cell_type": "code",
      "execution_count": null,
      "metadata": {
        "colab": {
          "base_uri": "https://localhost:8080/",
          "height": 1000
        },
        "id": "BjjdqF9DU7EE",
        "outputId": "ccd1d054-6d62-45c6-d0da-184f69e5247a"
      },
      "outputs": [],
      "source": [
        "train(x,y_true,cross_entropy_loss,cross_entropy_loss_prime,network)"
      ]
    },
    {
      "cell_type": "code",
      "execution_count": null,
      "metadata": {
        "id": "YTlXnW4dRpXp"
      },
      "outputs": [],
      "source": [
        "def test(x,y_true,loss_func,network:list[Layer]):\n",
        "\n",
        "    output = x\n",
        "    for layer in network:\n",
        "      output = layer.forward(output)\n",
        "    loss = loss_func(output,y_true)\n",
        "    accuracy = get_classification_accuracy(output,y_true)\n",
        "    print(f\"Loss: {loss} Accuracy: {accuracy*100} %\")"
      ]
    },
    {
      "cell_type": "code",
      "execution_count": null,
      "metadata": {
        "id": "Uwsu1VSUR7bi"
      },
      "outputs": [],
      "source": [
        "x = np.array([t[0].squeeze().numpy().flatten() for t in test_data])\n",
        "y_true = np.array([t[1] for t in test_data]).reshape((-1,1))"
      ]
    },
    {
      "cell_type": "code",
      "execution_count": null,
      "metadata": {
        "colab": {
          "base_uri": "https://localhost:8080/"
        },
        "id": "K0d54GZwSm9m",
        "outputId": "7fece864-6dc8-4df0-e4a4-bb598c4b2842"
      },
      "outputs": [
        {
          "name": "stdout",
          "output_type": "stream",
          "text": [
            "(40000, 784)\n",
            "(40000,)\n"
          ]
        }
      ],
      "source": [
        "print(x.shape)\n",
        "print(y_true.shape)"
      ]
    },
    {
      "cell_type": "code",
      "execution_count": null,
      "metadata": {
        "colab": {
          "base_uri": "https://localhost:8080/"
        },
        "id": "AzsN76wxSSGV",
        "outputId": "e0f79010-7f15-494a-a700-d5daadc80a8b"
      },
      "outputs": [
        {
          "name": "stdout",
          "output_type": "stream",
          "text": [
            "Loss: 0.770522241258424 Accuracy: 76.25999999999999 %\n"
          ]
        }
      ],
      "source": [
        "test(x,y_true,cross_entropy_loss,network)"
      ]
    }
  ],
  "metadata": {
    "colab": {
      "provenance": []
    },
    "kernelspec": {
      "display_name": "Python 3.11.2 64-bit",
      "language": "python",
      "name": "python3"
    },
    "language_info": {
      "name": "python",
      "version": "3.11.2"
    },
    "vscode": {
      "interpreter": {
        "hash": "ebfc0a8d552866b0d59eba665220a57de3bc06f3ac643b8bef38dd8f66781fdd"
      }
    }
  },
  "nbformat": 4,
  "nbformat_minor": 0
}
